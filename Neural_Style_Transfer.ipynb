{
  "nbformat": 4,
  "nbformat_minor": 0,
  "metadata": {
    "colab": {
      "name": "Neural Style Transfer",
      "provenance": [],
      "collapsed_sections": [],
      "toc_visible": true
    },
    "kernelspec": {
      "name": "python3",
      "display_name": "Python 3"
    },
    "accelerator": "GPU"
  },
  "cells": [
    {
      "cell_type": "markdown",
      "metadata": {
        "id": "FhbDIId9GvEJ"
      },
      "source": [
        "## Mounting the drive"
      ]
    },
    {
      "cell_type": "code",
      "metadata": {
        "id": "uyc8sl1GMpFX",
        "colab": {
          "base_uri": "https://localhost:8080/"
        },
        "outputId": "252f1a3d-8e9c-413a-ca34-67593b88466d"
      },
      "source": [
        "from google.colab import drive\n",
        "drive.mount('/content/drive')"
      ],
      "execution_count": null,
      "outputs": [
        {
          "output_type": "stream",
          "text": [
            "Mounted at /content/drive\n"
          ],
          "name": "stdout"
        }
      ]
    },
    {
      "cell_type": "markdown",
      "metadata": {
        "id": "T8TVmBrFRlnS"
      },
      "source": [
        "## Importing the packages"
      ]
    },
    {
      "cell_type": "code",
      "metadata": {
        "colab": {
          "base_uri": "https://localhost:8080/"
        },
        "id": "XvEtQI_HeWj2",
        "outputId": "0e777160-b47d-4a82-e9f7-bf610a2b4206"
      },
      "source": [
        "%tensorflow_version 1.x\n",
        "%pip install scipy==1.1.0"
      ],
      "execution_count": null,
      "outputs": [
        {
          "output_type": "stream",
          "text": [
            "TensorFlow 1.x selected.\n",
            "Collecting scipy==1.1.0\n",
            "\u001b[?25l  Downloading https://files.pythonhosted.org/packages/40/de/0c22c6754370ba6b1fa8e53bd6e514d4a41a181125d405a501c215cbdbd6/scipy-1.1.0-cp37-cp37m-manylinux1_x86_64.whl (31.2MB)\n",
            "\u001b[K     |████████████████████████████████| 31.2MB 95kB/s \n",
            "\u001b[?25hRequirement already satisfied: numpy>=1.8.2 in /usr/local/lib/python3.7/dist-packages (from scipy==1.1.0) (1.19.5)\n",
            "\u001b[31mERROR: lucid 0.3.10 requires umap-learn, which is not installed.\u001b[0m\n",
            "\u001b[31mERROR: lucid 0.3.10 has requirement numpy<=1.19, but you'll have numpy 1.19.5 which is incompatible.\u001b[0m\n",
            "\u001b[31mERROR: pymc3 3.11.2 has requirement scipy>=1.2.0, but you'll have scipy 1.1.0 which is incompatible.\u001b[0m\n",
            "\u001b[31mERROR: plotnine 0.6.0 has requirement scipy>=1.2.0, but you'll have scipy 1.1.0 which is incompatible.\u001b[0m\n",
            "\u001b[31mERROR: kapre 0.3.5 has requirement tensorflow>=2.0.0, but you'll have tensorflow 1.15.2 which is incompatible.\u001b[0m\n",
            "\u001b[31mERROR: albumentations 0.1.12 has requirement imgaug<0.2.7,>=0.2.5, but you'll have imgaug 0.2.9 which is incompatible.\u001b[0m\n",
            "Installing collected packages: scipy\n",
            "  Found existing installation: scipy 1.4.1\n",
            "    Uninstalling scipy-1.4.1:\n",
            "      Successfully uninstalled scipy-1.4.1\n",
            "Successfully installed scipy-1.1.0\n"
          ],
          "name": "stdout"
        }
      ]
    },
    {
      "cell_type": "code",
      "metadata": {
        "id": "9altDDJOGvEK"
      },
      "source": [
        "import os\n",
        "import sys\n",
        "import scipy.io\n",
        "import scipy.misc\n",
        "import matplotlib.pyplot as plt\n",
        "from matplotlib.pyplot import imshow\n",
        "from PIL import Image\n",
        "import numpy as np\n",
        "import tensorflow as tf\n",
        "import sys\n",
        "\n",
        "%matplotlib inline\n",
        "sys.path.insert(0, \"/content/drive/My Drive/Neural Style Transfer\")"
      ],
      "execution_count": null,
      "outputs": []
    },
    {
      "cell_type": "code",
      "metadata": {
        "id": "MBiiURByH85r"
      },
      "source": [
        "from nst_utils import *"
      ],
      "execution_count": null,
      "outputs": []
    },
    {
      "cell_type": "markdown",
      "metadata": {
        "id": "Qa_OWw1lXc2c"
      },
      "source": [
        "## Downloading pre-trained model from Kaggle"
      ]
    },
    {
      "cell_type": "code",
      "metadata": {
        "id": "Qw3VjlNjXk-c"
      },
      "source": [
        "os.environ['KAGGLE_CONFIG_DIR'] = \"/content/drive/My Drive/Neural Style Transfer\""
      ],
      "execution_count": null,
      "outputs": []
    },
    {
      "cell_type": "code",
      "metadata": {
        "colab": {
          "base_uri": "https://localhost:8080/"
        },
        "id": "M7rZkJKkYF8n",
        "outputId": "b5371c1e-6ed3-4a00-d101-dd681684ebae"
      },
      "source": [
        "%cd /content/drive/My Drive/Neural Style Transfer"
      ],
      "execution_count": null,
      "outputs": [
        {
          "output_type": "stream",
          "text": [
            "/content/drive/My Drive/Neural Style Transfer\n"
          ],
          "name": "stdout"
        }
      ]
    },
    {
      "cell_type": "code",
      "metadata": {
        "colab": {
          "base_uri": "https://localhost:8080/"
        },
        "id": "TZA7wmQGYPqm",
        "outputId": "d5a2dd97-fa69-40d3-919b-e69ceba0f0f8"
      },
      "source": [
        "!kaggle datasets download -d teksab/imagenetvggverydeep19mat"
      ],
      "execution_count": null,
      "outputs": [
        {
          "output_type": "stream",
          "text": [
            "Downloading imagenetvggverydeep19mat.zip to /content/drive/My Drive/Neural Style Transfer\n",
            " 98% 501M/510M [00:05<00:00, 86.7MB/s]\n",
            "100% 510M/510M [00:05<00:00, 92.6MB/s]\n"
          ],
          "name": "stdout"
        }
      ]
    },
    {
      "cell_type": "code",
      "metadata": {
        "colab": {
          "base_uri": "https://localhost:8080/"
        },
        "id": "B9BusXU-Y6A7",
        "outputId": "bf8f8852-b5ce-4e5a-850a-d00510e1cf28"
      },
      "source": [
        "!unzip \\*.zip  && rm *.zip"
      ],
      "execution_count": null,
      "outputs": [
        {
          "output_type": "stream",
          "text": [
            "Archive:  imagenetvggverydeep19mat.zip\n",
            "  inflating: imagenet-vgg-verydeep-19.mat  \n"
          ],
          "name": "stdout"
        }
      ]
    },
    {
      "cell_type": "markdown",
      "metadata": {
        "id": "vwC8rryjGvEQ"
      },
      "source": [
        "## Loading the pretrained model"
      ]
    },
    {
      "cell_type": "code",
      "metadata": {
        "id": "QIvRebp9GvET",
        "colab": {
          "base_uri": "https://localhost:8080/"
        },
        "outputId": "a06e0945-d510-42d6-dcab-64fe5624cf41"
      },
      "source": [
        "model = load_vgg_model(\"/content/drive/My Drive/Neural Style Transfer/pretrained-model/imagenet-vgg-verydeep-19.mat\")\n",
        "# print(model)"
      ],
      "execution_count": null,
      "outputs": [
        {
          "output_type": "stream",
          "text": [
            "WARNING:tensorflow:From /content/drive/My Drive/Neural Style Transfer/nst_utils.py:58: The name tf.nn.avg_pool is deprecated. Please use tf.nn.avg_pool2d instead.\n",
            "\n"
          ],
          "name": "stdout"
        }
      ]
    },
    {
      "cell_type": "markdown",
      "metadata": {
        "id": "zKoWwKiqGvEX"
      },
      "source": [
        "## Computing the content cost"
      ]
    },
    {
      "cell_type": "code",
      "metadata": {
        "id": "W9V1Ke-iGvEf"
      },
      "source": [
        "def compute_content_cost(a_C, a_G):\n",
        "    \n",
        "    m, n_H, n_W, n_C = a_G.get_shape().as_list()\n",
        "    \n",
        "    a_C_unrolled = tf.transpose(tf.reshape(a_C, [n_H * n_W, n_C]))\n",
        "    a_G_unrolled = tf.transpose(tf.reshape(a_G, [n_H * n_W, n_C]))\n",
        "    \n",
        "    J_content = tf.reduce_sum(tf.square(tf.subtract(a_G_unrolled, a_C_unrolled))) * (1 / (4 * n_H * n_W * n_C))\n",
        "    \n",
        "    return J_content"
      ],
      "execution_count": null,
      "outputs": []
    },
    {
      "cell_type": "code",
      "metadata": {
        "id": "4sKZKrp0GvEj",
        "colab": {
          "base_uri": "https://localhost:8080/"
        },
        "outputId": "c17320fb-3d19-497c-be18-3d90363cbdff"
      },
      "source": [
        "tf.reset_default_graph()\n",
        "\n",
        "with tf.Session() as test:\n",
        "    tf.set_random_seed(1)\n",
        "    a_C = tf.random_normal([1, 4, 4, 3], mean=1, stddev=4)\n",
        "    a_G = tf.random_normal([1, 4, 4, 3], mean=1, stddev=4)\n",
        "    J_content = compute_content_cost(a_C, a_G)\n",
        "    print(\"J_content = \" + str(J_content.eval()))"
      ],
      "execution_count": null,
      "outputs": [
        {
          "output_type": "stream",
          "text": [
            "J_content = 6.7655926\n"
          ],
          "name": "stdout"
        }
      ]
    },
    {
      "cell_type": "markdown",
      "metadata": {
        "id": "j9o9EJuQGvEz"
      },
      "source": [
        "## Computing the Style matrix"
      ]
    },
    {
      "cell_type": "code",
      "metadata": {
        "id": "whVwUbT6GvE3"
      },
      "source": [
        "def gram_matrix(A):\n",
        "    \n",
        "    GA = tf.matmul(A, tf.transpose(A))\n",
        "    \n",
        "    return GA"
      ],
      "execution_count": null,
      "outputs": []
    },
    {
      "cell_type": "code",
      "metadata": {
        "id": "z8wyQLz2GvE9",
        "colab": {
          "base_uri": "https://localhost:8080/"
        },
        "outputId": "8d8d2084-89a6-4296-96e6-0588b332e3e6"
      },
      "source": [
        "tf.reset_default_graph()\n",
        "\n",
        "with tf.Session() as test:\n",
        "    tf.set_random_seed(1)\n",
        "    A = tf.random_normal([3, 2*1], mean=1, stddev=4)\n",
        "    GA = gram_matrix(A)\n",
        "    \n",
        "    print(\"GA = \" + str(GA.eval()))"
      ],
      "execution_count": null,
      "outputs": [
        {
          "output_type": "stream",
          "text": [
            "GA = [[ 6.422305 -4.429122 -2.096682]\n",
            " [-4.429122 19.465837 19.563871]\n",
            " [-2.096682 19.563871 20.686462]]\n"
          ],
          "name": "stdout"
        }
      ]
    },
    {
      "cell_type": "markdown",
      "metadata": {
        "id": "CbwOsqRDGvFC"
      },
      "source": [
        "##Computing the Style cost"
      ]
    },
    {
      "cell_type": "code",
      "metadata": {
        "id": "Ocj2gL2QGvFG"
      },
      "source": [
        "def compute_layer_style_cost(a_S, a_G):\n",
        "    \n",
        "    m, n_H, n_W, n_C = a_G.get_shape().as_list()\n",
        "    \n",
        "    a_S = tf.transpose(tf.reshape(a_S, [n_H * n_W, n_C]))\n",
        "    a_G = tf.transpose(tf.reshape(a_G, [n_H * n_W, n_C]))\n",
        " \n",
        "    GS = gram_matrix(a_S)\n",
        "    GG = gram_matrix(a_G)\n",
        "\n",
        "    J_style_layer = (1 / (4 * n_C **2 * (n_H * n_W) **2)) * tf.reduce_sum(tf.square(tf.subtract(GS, GG)))\n",
        "    \n",
        "    return J_style_layer"
      ],
      "execution_count": null,
      "outputs": []
    },
    {
      "cell_type": "code",
      "metadata": {
        "scrolled": false,
        "id": "1YF67GYRGvFJ",
        "colab": {
          "base_uri": "https://localhost:8080/"
        },
        "outputId": "e04b6f5c-4225-4efb-c20b-5cfc4e5dc1dc"
      },
      "source": [
        "tf.reset_default_graph()\n",
        "\n",
        "with tf.Session() as test:\n",
        "    tf.set_random_seed(1)\n",
        "    a_S = tf.random_normal([1, 4, 4, 3], mean=1, stddev=4)\n",
        "    a_G = tf.random_normal([1, 4, 4, 3], mean=1, stddev=4)\n",
        "    J_style_layer = compute_layer_style_cost(a_S, a_G)\n",
        "    \n",
        "    print(\"J_style_layer = \" + str(J_style_layer.eval()))"
      ],
      "execution_count": null,
      "outputs": [
        {
          "output_type": "stream",
          "text": [
            "J_style_layer = 9.190279\n"
          ],
          "name": "stdout"
        }
      ]
    },
    {
      "cell_type": "markdown",
      "metadata": {
        "id": "_Z_zSgKLS29j"
      },
      "source": [
        "## The Style Weights"
      ]
    },
    {
      "cell_type": "code",
      "metadata": {
        "id": "-DMBVVTKGvFR"
      },
      "source": [
        "STYLE_LAYERS = [\n",
        "    ('conv1_1', 0.2),\n",
        "    ('conv2_1', 0.2),\n",
        "    ('conv3_1', 0.2),\n",
        "    ('conv4_1', 0.2),\n",
        "    ('conv5_1', 0.2)]"
      ],
      "execution_count": null,
      "outputs": []
    },
    {
      "cell_type": "code",
      "metadata": {
        "id": "qj1OKu7EGvFX"
      },
      "source": [
        "def compute_style_cost(model, STYLE_LAYERS):\n",
        "    \n",
        "    J_style = 0\n",
        "\n",
        "    for layer_name, coeff in STYLE_LAYERS:\n",
        "\n",
        "        out = model[layer_name]\n",
        "\n",
        "        a_S = sess.run(out)\n",
        "\n",
        "        a_G = out\n",
        "        \n",
        "        J_style_layer = compute_layer_style_cost(a_S, a_G)\n",
        "\n",
        "        J_style += coeff * J_style_layer\n",
        "\n",
        "    return J_style"
      ],
      "execution_count": null,
      "outputs": []
    },
    {
      "cell_type": "markdown",
      "metadata": {
        "id": "ra3grGHpGvFe"
      },
      "source": [
        "## Computing the Total Cost"
      ]
    },
    {
      "cell_type": "code",
      "metadata": {
        "id": "qc51kaO3GvFi"
      },
      "source": [
        "def total_cost(J_content, J_style, alpha = 10, beta = 40):\n",
        "    \n",
        "    J = alpha * J_content + beta * J_style\n",
        "    \n",
        "    return J"
      ],
      "execution_count": null,
      "outputs": []
    },
    {
      "cell_type": "code",
      "metadata": {
        "id": "97Svv5N1GvFo",
        "colab": {
          "base_uri": "https://localhost:8080/"
        },
        "outputId": "4ff510ee-24a0-4fb7-a584-7417eb86c11a"
      },
      "source": [
        "tf.reset_default_graph()\n",
        "\n",
        "with tf.Session() as test:\n",
        "    np.random.seed(3)\n",
        "    J_content = np.random.randn()    \n",
        "    J_style = np.random.randn()\n",
        "    J = total_cost(J_content, J_style)\n",
        "    print(\"J = \" + str(J))"
      ],
      "execution_count": null,
      "outputs": [
        {
          "output_type": "stream",
          "text": [
            "J = 35.34667875478276\n"
          ],
          "name": "stdout"
        }
      ]
    },
    {
      "cell_type": "code",
      "metadata": {
        "id": "nH_MqsjTGvFw"
      },
      "source": [
        "tf.reset_default_graph()\n",
        "\n",
        "sess = tf.InteractiveSession()"
      ],
      "execution_count": null,
      "outputs": []
    },
    {
      "cell_type": "code",
      "metadata": {
        "id": "BZjJ0bswGvF1",
        "colab": {
          "base_uri": "https://localhost:8080/"
        },
        "outputId": "204b964b-cd02-4ba8-ab3e-3ad83a1c2806"
      },
      "source": [
        "content_image = scipy.misc.imread(\"/content/drive/My Drive/Neural Style Transfer/images/my_content.jpeg\")\n",
        "content_image = reshape_and_normalize_image(content_image)\n",
        "#print(content_image.shape)"
      ],
      "execution_count": null,
      "outputs": [
        {
          "output_type": "stream",
          "text": [
            "/usr/local/lib/python3.7/dist-packages/ipykernel_launcher.py:1: DeprecationWarning:     `imread` is deprecated!\n",
            "    `imread` is deprecated in SciPy 1.0.0, and will be removed in 1.2.0.\n",
            "    Use ``imageio.imread`` instead.\n",
            "  \"\"\"Entry point for launching an IPython kernel.\n"
          ],
          "name": "stderr"
        }
      ]
    },
    {
      "cell_type": "code",
      "metadata": {
        "id": "97EGHup4GvF7",
        "colab": {
          "base_uri": "https://localhost:8080/"
        },
        "outputId": "14539744-2241-47f1-abc4-a114ee5599cd"
      },
      "source": [
        "style_image = scipy.misc.imread(\"/content/drive/My Drive/Neural Style Transfer/images/my_style.jpg\")\n",
        "style_image = reshape_and_normalize_image(style_image)"
      ],
      "execution_count": null,
      "outputs": [
        {
          "output_type": "stream",
          "text": [
            "/usr/local/lib/python3.7/dist-packages/ipykernel_launcher.py:1: DeprecationWarning:     `imread` is deprecated!\n",
            "    `imread` is deprecated in SciPy 1.0.0, and will be removed in 1.2.0.\n",
            "    Use ``imageio.imread`` instead.\n",
            "  \"\"\"Entry point for launching an IPython kernel.\n"
          ],
          "name": "stderr"
        }
      ]
    },
    {
      "cell_type": "markdown",
      "metadata": {
        "id": "87K_0Lv_GvGD"
      },
      "source": [
        "## Generating the noisy image"
      ]
    },
    {
      "cell_type": "code",
      "metadata": {
        "id": "RJDEfe0tGvGF",
        "colab": {
          "base_uri": "https://localhost:8080/",
          "height": 303
        },
        "outputId": "19972d28-b8f9-4899-9764-5b7ad99cc294"
      },
      "source": [
        "generated_image = generate_noise_image(content_image)\n",
        "imshow(generated_image[0])"
      ],
      "execution_count": null,
      "outputs": [
        {
          "output_type": "stream",
          "text": [
            "Clipping input data to the valid range for imshow with RGB data ([0..1] for floats or [0..255] for integers).\n"
          ],
          "name": "stderr"
        },
        {
          "output_type": "execute_result",
          "data": {
            "text/plain": [
              "<matplotlib.image.AxesImage at 0x7f4e060af950>"
            ]
          },
          "metadata": {
            "tags": []
          },
          "execution_count": 20
        },
        {
          "output_type": "display_data",
          "data": {
            "image/png": "[encoded data removed]",
            "text/plain": [
              "<Figure size 432x288 with 1 Axes>"
            ]
          },
          "metadata": {
            "tags": [],
            "needs_background": "light"
          }
        }
      ]
    },
    {
      "cell_type": "markdown",
      "metadata": {
        "id": "GtA4z-VwGvGJ"
      },
      "source": [
        "## Loading saved model"
      ]
    },
    {
      "cell_type": "code",
      "metadata": {
        "id": "vwZjlOZVGvGL"
      },
      "source": [
        "model = load_vgg_model(\"/content/drive/My Drive/Neural Style Transfer/pretrained-model/imagenet-vgg-verydeep-19.mat\")"
      ],
      "execution_count": null,
      "outputs": []
    },
    {
      "cell_type": "code",
      "metadata": {
        "id": "jtmAHAh7GvGP"
      },
      "source": [
        "sess.run(model['input'].assign(content_image))\n",
        "\n",
        "out = model['conv4_2']\n",
        "\n",
        "a_C = sess.run(out)\n",
        "\n",
        "a_G = out\n",
        "\n",
        "J_content = compute_content_cost(a_C, a_G)"
      ],
      "execution_count": null,
      "outputs": []
    },
    {
      "cell_type": "code",
      "metadata": {
        "id": "NsZFtTurGvGV"
      },
      "source": [
        "sess.run(model['input'].assign(style_image))\n",
        "\n",
        "J_style = compute_style_cost(model, STYLE_LAYERS)"
      ],
      "execution_count": null,
      "outputs": []
    },
    {
      "cell_type": "code",
      "metadata": {
        "id": "StNvdjcDGvGY"
      },
      "source": [
        "J = total_cost(J_content, J_style)"
      ],
      "execution_count": null,
      "outputs": []
    },
    {
      "cell_type": "code",
      "metadata": {
        "id": "chVxKlXBGvGb"
      },
      "source": [
        "optimizer = tf.train.AdamOptimizer(2.0)\n",
        "\n",
        "train_step = optimizer.minimize(J)"
      ],
      "execution_count": null,
      "outputs": []
    },
    {
      "cell_type": "markdown",
      "metadata": {
        "id": "65lRZX3vGvGe"
      },
      "source": [
        "## Defining the model"
      ]
    },
    {
      "cell_type": "code",
      "metadata": {
        "id": "msAzgFBxGvGg"
      },
      "source": [
        "def model_nn(sess, input_image, num_iterations = 200):\n",
        "    \n",
        "    sess.run(tf.global_variables_initializer())\n",
        "    \n",
        "    generated_image = sess.run(model['input'].assign(input_image))\n",
        "    \n",
        "    for i in range(num_iterations):\n",
        "      \n",
        "        sess.run(train_step)\n",
        "        \n",
        "        generated_image = sess.run(model['input'])\n",
        "\n",
        "        if i%20 == 0:\n",
        "            Jt, Jc, Js = sess.run([J, J_content, J_style])\n",
        "            print(\"Iteration \" + str(i) + \" :\")\n",
        "            print(\"total cost = \" + str(Jt))\n",
        "            print(\"content cost = \" + str(Jc))\n",
        "            print(\"style cost = \" + str(Js))\n",
        "            \n",
        "            save_image(\"/content/drive/My Drive/Neural Style Transfer/output/\" + str(i) + \".png\", generated_image)\n",
        "            \n",
        "    save_image('/content/drive/My Drive/Neural Style Transfer/output/generated_image.jpg', generated_image)\n",
        "    \n",
        "    return generated_image"
      ],
      "execution_count": null,
      "outputs": []
    },
    {
      "cell_type": "markdown",
      "metadata": {
        "id": "oiQYqWxoGvGk"
      },
      "source": [
        "## Running the model"
      ]
    },
    {
      "cell_type": "code",
      "metadata": {
        "scrolled": true,
        "id": "d9pt9IlKGvGl",
        "colab": {
          "base_uri": "https://localhost:8080/"
        },
        "outputId": "ca3aa6d1-8c7f-47ea-db38-5d92d0d6b946"
      },
      "source": [
        "model_nn(sess, generated_image)"
      ],
      "execution_count": null,
      "outputs": [
        {
          "output_type": "stream",
          "text": [
            "Iteration 0 :\n",
            "total cost = 8961923000.0\n",
            "content cost = 7618.1245\n",
            "style cost = 224046180.0\n",
            "Iteration 20 :\n",
            "total cost = 2243565600.0\n",
            "content cost = 16324.939\n",
            "style cost = 56085056.0\n",
            "Iteration 40 :\n",
            "total cost = 1043580000.0\n",
            "content cost = 19301.867\n",
            "style cost = 26084676.0\n",
            "Iteration 60 :\n",
            "total cost = 621470400.0\n",
            "content cost = 20464.305\n",
            "style cost = 15531643.0\n",
            "Iteration 80 :\n",
            "total cost = 428425540.0\n",
            "content cost = 21240.314\n",
            "style cost = 10705328.0\n",
            "Iteration 100 :\n",
            "total cost = 329556160.0\n",
            "content cost = 21819.762\n",
            "style cost = 8233448.5\n",
            "Iteration 120 :\n",
            "total cost = 271388200.0\n",
            "content cost = 22269.426\n",
            "style cost = 6779138.0\n",
            "Iteration 140 :\n",
            "total cost = 232329280.0\n",
            "content cost = 22578.98\n",
            "style cost = 5802587.0\n",
            "Iteration 160 :\n",
            "total cost = 203647950.0\n",
            "content cost = 22823.643\n",
            "style cost = 5085493.0\n",
            "Iteration 180 :\n",
            "total cost = 181135310.0\n",
            "content cost = 23041.582\n",
            "style cost = 4522622.5\n"
          ],
          "name": "stdout"
        },
        {
          "output_type": "execute_result",
          "data": {
            "text/plain": [
              "array([[[[ 3.62659812e+00,  5.34104462e+01,  6.41103134e+01],\n",
              "         [ 5.37642097e+00,  8.11011658e+01,  5.85898819e+01],\n",
              "         [ 3.02939625e+01,  1.09906113e+02,  8.84160004e+01],\n",
              "         ...,\n",
              "         [ 5.97074966e+01,  9.71547470e+01,  8.46869659e+01],\n",
              "         [ 5.21845245e+01,  9.64307175e+01,  1.06075874e+02],\n",
              "         [ 6.56175842e+01,  1.88061218e+02,  1.33849213e+02]],\n",
              "\n",
              "        [[ 4.57036197e-02,  7.09869461e+01,  5.62317085e+01],\n",
              "         [ 3.35330048e+01,  8.77005615e+01,  1.62672913e+02],\n",
              "         [ 9.95450363e+01,  8.55325165e+01,  1.05588753e+02],\n",
              "         ...,\n",
              "         [ 5.66355095e+01,  1.48574188e+02,  9.93915405e+01],\n",
              "         [ 5.69355774e+01,  1.10565140e+02,  9.98556366e+01],\n",
              "         [ 3.54575424e+01,  6.59714508e+01,  9.05730515e+01]],\n",
              "\n",
              "        [[ 2.62094250e+01,  1.08953384e+02,  1.18936897e+02],\n",
              "         [ 8.89357910e+01,  5.37747383e+01,  9.16176224e+01],\n",
              "         [ 1.14272911e+02,  8.11929169e+01,  9.02695312e+01],\n",
              "         ...,\n",
              "         [ 6.10504608e+01,  7.46584930e+01,  7.75809021e+01],\n",
              "         [ 2.83718605e+01, -6.19408906e-01,  7.45279083e+01],\n",
              "         [-2.05388088e+01, -3.03064842e+01,  5.35526848e+01]],\n",
              "\n",
              "        ...,\n",
              "\n",
              "        [[ 2.91633091e+01,  3.93452721e+01,  3.12800255e+01],\n",
              "         [ 1.01130623e+02,  7.55796585e+01,  7.80167389e+01],\n",
              "         [ 1.00683929e+02,  7.70144272e+01,  7.48907700e+01],\n",
              "         ...,\n",
              "         [ 2.74940968e+01,  5.40047150e+01,  7.80262985e+01],\n",
              "         [ 3.17887974e+01,  2.04096432e+01,  2.95153408e+01],\n",
              "         [ 2.90234108e+01,  4.33658333e+01,  2.35570049e+01]],\n",
              "\n",
              "        [[ 6.27350121e+01,  6.24931145e+01,  2.07373848e+01],\n",
              "         [ 3.63487396e+01,  8.88582153e+01,  3.16153908e+01],\n",
              "         [ 3.93506737e+01,  9.38152771e+01,  4.34488335e+01],\n",
              "         ...,\n",
              "         [ 2.10565147e+01,  2.18717461e+01,  2.41989765e+01],\n",
              "         [ 3.16273232e+01,  1.91117954e+01,  1.85741272e+01],\n",
              "         [ 2.86163502e+01,  1.39991932e+01,  3.25452461e+01]],\n",
              "\n",
              "        [[ 1.05847183e+02,  1.04830528e+02,  5.19974785e+01],\n",
              "         [ 7.61462326e+01,  8.55425186e+01,  8.02803421e+01],\n",
              "         [ 8.08175735e+01,  1.03842667e+02,  1.24305672e+02],\n",
              "         ...,\n",
              "         [ 6.41997147e+01,  3.60831528e+01,  6.81297607e+01],\n",
              "         [ 4.47204132e+01,  1.30274792e+01,  9.52228622e+01],\n",
              "         [ 4.42954292e+01,  2.77844505e+01,  2.48588982e+01]]]],\n",
              "      dtype=float32)"
            ]
          },
          "metadata": {
            "tags": []
          },
          "execution_count": 27
        }
      ]
    },
    {
      "cell_type": "code",
      "metadata": {
        "id": "A8LeCnimgt_F"
      },
      "source": [
        ""
      ],
      "execution_count": null,
      "outputs": []
    }
  ]
}